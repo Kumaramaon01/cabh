{
 "cells": [
  {
   "cell_type": "markdown",
   "metadata": {},
   "source": [
    "# CABH Data Monitoring System\n",
    "This notebook implements the CABH data monitoring system for tracking sensor data points and generating reports.\n",
    "\n",
    "## Setup and Configuration"
   ]
  },
  {
   "cell_type": "code",
   "execution_count": null,
   "metadata": {},
   "source": [
    "import pandas as pd\n",
    "import json\n",
    "import smtplib\n",
    "from email.mime.text import MIMEText\n",
    "from email.mime.multipart import MIMEMultipart\n",
    "from email.mime.application import MIMEApplication\n",
    "from datetime import datetime\n",
    "import os\n",
    "import pymysql\n",
    "from pathlib import Path"
   ]
  },
  {
   "cell_type": "code",
   "execution_count": null,
   "metadata": {},
   "source": [
    "# Email configuration\n",
    "SMTP_SERVER = \"smtp.gmail.com\"\n",
    "SMTP_PORT = 587\n",
    "SENDER_EMAIL = \"abdullah@edsglobal.com\"\n",
    "SENDER_PASSWORD = \"txam vysk plfl tdvk\"  # Gmail App Password\n",
    "RECIPIENT_EMAILS = [\n",
    "    \"ashish@edsglobal.com\",\n",
    "    \"abdullah@edsglobal.com\",\n",
    "    \"piyush@edsglobal.com\",\n",
    "    \"gurneet@edsglobal.com\",\n",
    "    \"lakshmy@edsglobal.com\"\n",
    "]"
   ]
  },
  {
   "cell_type": "markdown",
   "metadata": {},
   "source": [
    "## Database Functions\n",
    "Functions for connecting to the database and counting data points"
   ]
  },
  {
   "cell_type": "code",
   "execution_count": null,
   "metadata": {},
   "source": [
    "def count_data_points_batch(device_ids):\n",
    "    # Implementation from count_device_data_db.py\n",
    "    pass  # TODO: Implement database connection and query logic"
   ]
  },
  {
   "cell_type": "markdown",
   "metadata": {},
   "source": [
    "## Data Processing Functions\n",
    "Functions for processing monitor data and generating reports"
   ]
  },
  {
   "cell_type": "code",
   "execution_count": null,
   "metadata": {},
   "source": [
    "def process_monitor_list(monitors_data):\n",
    "    # Parse the JSON data if it's a string\n",
    "    if isinstance(monitors_data, str):\n",
    "        monitors = json.loads(monitors_data)\n",
    "    else:\n",
    "        monitors = monitors_data\n",
    "    \n",
    "    # Access the Data array from the JSON structure\n",
    "    monitors_list = monitors.get('Data', [])\n",
    "    \n",
    "    # Get all device IDs\n",
    "    device_ids = [int(monitor[\"deviceID\"]) for monitor in monitors_list]\n",
    "    \n",
    "    # Get counts for all devices in one batch\n",
    "    data_points_dict = count_data_points_batch(device_ids)\n",
    "    \n",
    "    # Create results list using the batch data\n",
    "    results = []\n",
    "    for monitor in monitors_list:\n",
    "        device_id = monitor[\"deviceID\"]\n",
    "        device_data = data_points_dict.get(device_id, {\"count\": 0, \"last_timestamp\": None})\n",
    "        data_points = device_data[\"count\"]\n",
    "        data_percentage = round((data_points / 1440) * 100, 2)  # Calculate percentage\n",
    "        result = {\n",
    "            \"deviceID\": device_id,\n",
    "            \"deployementID\": monitor[\"deployementID\"],\n",
    "            \"typology\": monitor[\"typology\"],\n",
    "            \"address\": monitor[\"address\"],\n",
    "            \"data_points_24h\": data_points,\n",
    "            \"data_percentage\": data_percentage,\n",
    "            \"last_timestamp\": device_data[\"last_timestamp\"]\n",
    "        }\n",
    "        results.append(result)\n",
    "    \n",
    "    return results"
   ]
  },
  {
   "cell_type": "markdown",
   "metadata": {},
   "source": [
    "## Email Functions\n",
    "Functions for sending monitoring reports via email"
   ]
  },
  {
   "cell_type": "code",
   "execution_count": null,
   "metadata": {},
   "source": [
    "def send_monitoring_report(monitor_report_path, low_data_report_path):\n",
    "    try:\n",
    "        # Create message\n",
    "        msg = MIMEMultipart()\n",
    "        msg['From'] = SENDER_EMAIL\n",
    "        msg['To'] = \", \".join(RECIPIENT_EMAILS)\n",
    "        msg['Subject'] = f\"CABH Data Monitoring Report - {datetime.now().strftime('%Y-%m-%d %H:%M:%S')}\"\n",
    "\n",
    "        # Email body\n",
    "        body = \"\"\"Hello,\n",
    "\n",
    "Please find attached the latest CABH data monitoring reports:\n",
    "1. Complete Monitor Data Points Report\n",
    "2. Low Data Sensors Report (devices with <95% data)\n",
    "\n",
    "This is an automated email. Please do not reply.\n",
    "\n",
    "Best regards,\n",
    "Abdullah Kidwai\"\"\"\n",
    "        msg.attach(MIMEText(body, 'plain'))\n",
    "\n",
    "        # Attach monitor report\n",
    "        with open(monitor_report_path, 'rb') as f:\n",
    "            monitor_attachment = MIMEApplication(f.read(), _subtype='csv')\n",
    "            monitor_attachment.add_header('Content-Disposition', 'attachment', \n",
    "                                        filename=os.path.basename(monitor_report_path))\n",
    "            msg.attach(monitor_attachment)\n",
    "\n",
    "        # Attach low data report\n",
    "        with open(low_data_report_path, 'rb') as f:\n",
    "            low_data_attachment = MIMEApplication(f.read(), _subtype='csv')\n",
    "            low_data_attachment.add_header('Content-Disposition', 'attachment', \n",
    "                                         filename=os.path.basename(low_data_report_path))\n",
    "            msg.attach(low_data_attachment)\n",
    "\n",
    "        # Send email\n",
    "        with smtplib.SMTP(SMTP_SERVER, SMTP_PORT) as server:\n",
    "            server.starttls()\n",
    "            server.login(SENDER_EMAIL, SENDER_PASSWORD)\n",
    "            server.send_message(msg)\n",
    "\n",
    "        print(\"\\nMonitoring reports sent successfully via email.\")\n",
    "        print(f\"Reports sent to: {', '.join(RECIPIENT_EMAILS)}\")\n",
    "\n",
    "    except Exception as e:\n",
    "        print(f\"\\nError sending email: {str(e)}\")"
   ]
  },
  {
   "cell_type": "markdown",
   "metadata": {},
   "source": [
    "## Generate Reports\n",
    "Run the monitoring system and generate reports"
   ]
  },
  {
   "cell_type": "code",
   "execution_count": null,
   "metadata": {},
   "source": [
    "def generate_low_data_report():\n",
    "    try:\n",
    "        # First, run the monitor data points report\n",
    "        with open('monitor_data.json', 'r') as file:\n",
    "            monitor_data = json.load(file)\n",
    "        \n",
    "        # Process the monitor list and get results\n",
    "        results = process_monitor_list(monitor_data)\n",
    "        \n",
    "        # Get current timestamp for filenames\n",
    "        timestamp = datetime.now().strftime('%Y%m%d_%H%M%S')\n",
    "        \n",
    "        # Create DataFrame and export to CSV with timestamp\n",
    "        df = pd.DataFrame(results)\n",
    "        output_filename = f'monitor_data_points_report_{timestamp}.csv'\n",
    "        df.to_csv(output_filename, index=False)\n",
    "        \n",
    "        # Filter for low data sensors\n",
    "        low_data_df = df[df['data_percentage'] < 95.0].sort_values('data_percentage')\n",
    "        \n",
    "        # Export low data sensors to a separate CSV file with timestamp\n",
    "        low_data_output = f'low_data_sensors_report_{timestamp}.csv'\n",
    "        low_data_df.to_csv(low_data_output, index=False)\n",
    "        \n",
    "        # Print summary\n",
    "        print(\"\\nMonitor Data Points Report Summary\")\n",
    "        print(\"-\" * 80)\n",
    "        print(f\"Total sensors analyzed: {len(df)}\")\n",
    "        print(f\"Sensors with low data (<95%): {len(low_data_df)}\")\n",
    "        print(f\"Full report exported to {output_filename}\")\n",
    "        print(f\"Low data sensors report exported to {low_data_output}\")\n",
    "        \n",
    "        # Send reports via email\n",
    "        send_monitoring_report(output_filename, low_data_output)\n",
    "        \n",
    "        if not low_data_df.empty:\n",
    "            print(\"\\nLow Data Sensors:\")\n",
    "            print(low_data_df[['deviceID', 'deployementID', 'data_percentage']].to_string(index=False))\n",
    "        \n",
    "    except FileNotFoundError:\n",
    "        print(\"Error: monitor_data.json file not found.\")\n",
    "    except Exception as e:\n",
    "        print(f\"An unexpected error occurred: {str(e)}\")"
   ]
  },
  {
   "cell_type": "code",
   "execution_count": null,
   "metadata": {},
   "source": [
    "# Run the report generation\n",
    "generate_low_data_report()"
   ]
  }
 ],
 "metadata": {
  "kernelspec": {
   "display_name": "Python 3",
   "language": "python",
   "name": "python3"
  },
  "language_info": {
   "codemirror_mode": {
    "name": "ipython",
    "version": 3
   },
   "file_extension": ".py",
   "mimetype": "text/x-python",
   "name": "python",
   "nbconvert_exporter": "python",
   "pygments_lexer": "ipython3",
   "version": "3.13.0"
  }
 },
 "nbformat": 4,
 "nbformat_minor": 4
}